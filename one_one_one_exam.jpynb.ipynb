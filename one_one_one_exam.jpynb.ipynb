{
 "cells": [
  {
   "cell_type": "code",
   "execution_count": null,
   "id": "e4529d1a",
   "metadata": {},
   "outputs": [],
   "source": [
    "print(\"my name is adil\")"
   ]
  },
  {
   "cell_type": "code",
   "execution_count": null,
   "id": "9d1180ff",
   "metadata": {},
   "outputs": [],
   "source": [
    "x=5\n",
    "print(x)"
   ]
  },
  {
   "cell_type": "code",
   "execution_count": null,
   "id": "bf8173a4",
   "metadata": {},
   "outputs": [],
   "source": [
    "#create a dictionary\n",
    "cars = {\n",
    "    \"brand\": \"Ford\",\n",
    "    \"model\": \"Mustang\",\n",
    "    \"year\": 1964\n",
    "}\n",
    "\n"
   ]
  }
 ],
 "metadata": {
  "language_info": {
   "name": "python"
  }
 },
 "nbformat": 4,
 "nbformat_minor": 5
}
