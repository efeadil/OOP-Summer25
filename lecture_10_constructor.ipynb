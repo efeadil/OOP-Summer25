{
 "cells": [
  {
   "cell_type": "markdown",
   "id": "6fbb38c9",
   "metadata": {},
   "source": [
    "## class with attributes"
   ]
  },
  {
   "cell_type": "code",
   "execution_count": 8,
   "id": "6361a734",
   "metadata": {},
   "outputs": [],
   "source": [
    "class Bike:\n",
    "    def __init__(self, color, bike_type):\n",
    "        self.color = color\n",
    "        self.bike_type = bike_type"
   ]
  },
  {
   "cell_type": "code",
   "execution_count": 9,
   "id": "a5b6c3ad",
   "metadata": {},
   "outputs": [],
   "source": [
    "bike1 =Bike(\"red\", \"ntb\")"
   ]
  },
  {
   "cell_type": "code",
   "execution_count": 10,
   "id": "0a4dd12e",
   "metadata": {},
   "outputs": [
    {
     "name": "stdout",
     "output_type": "stream",
     "text": [
      "My ntb bike is red\n"
     ]
    }
   ],
   "source": [
    "print(\"My\", bike1.bike_type, \"bike is\", bike1.color,)"
   ]
  },
  {
   "cell_type": "markdown",
   "id": "b95bbaf6",
   "metadata": {},
   "source": [
    "What is  constructor?"
   ]
  },
  {
   "cell_type": "code",
   "execution_count": 11,
   "id": "dd51484f",
   "metadata": {},
   "outputs": [],
   "source": [
    "class Bike:\n",
    "    def __init__(self):\n",
    "        print(\"Hello from the other side\")"
   ]
  },
  {
   "cell_type": "code",
   "execution_count": 12,
   "id": "38b57079",
   "metadata": {},
   "outputs": [
    {
     "name": "stdout",
     "output_type": "stream",
     "text": [
      "Hello from the other side\n"
     ]
    }
   ],
   "source": [
    "bike = Bike()"
   ]
  },
  {
   "cell_type": "code",
   "execution_count": 13,
   "id": "eb92e40b",
   "metadata": {},
   "outputs": [],
   "source": [
    "class Bike:\n",
    "    def tell_me_something(self):\n",
    "        print(\"i am a bike\")"
   ]
  },
  {
   "cell_type": "code",
   "execution_count": 14,
   "id": "58274378",
   "metadata": {},
   "outputs": [
    {
     "name": "stdout",
     "output_type": "stream",
     "text": [
      "i am a bike\n"
     ]
    }
   ],
   "source": [
    "bike1 = Bike()\n",
    "bike1. tell_me_something()"
   ]
  }
 ],
 "metadata": {
  "kernelspec": {
   "display_name": "Python 3",
   "language": "python",
   "name": "python3"
  },
  "language_info": {
   "codemirror_mode": {
    "name": "ipython",
    "version": 3
   },
   "file_extension": ".py",
   "mimetype": "text/x-python",
   "name": "python",
   "nbconvert_exporter": "python",
   "pygments_lexer": "ipython3",
   "version": "3.12.1"
  }
 },
 "nbformat": 4,
 "nbformat_minor": 5
}
