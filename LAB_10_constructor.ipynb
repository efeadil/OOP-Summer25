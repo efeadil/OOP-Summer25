{
 "cells": [
  {
   "cell_type": "code",
   "execution_count": 6,
   "id": "66748642",
   "metadata": {},
   "outputs": [],
   "source": [
    "\n",
    "class Animal:\n",
    "    def __init__(self, animal_type):\n",
    "        self.animal_type = animal_type\n",
    "        print( self.animal_type)\n"
   ]
  },
  {
   "cell_type": "code",
   "execution_count": 7,
   "id": "7ab5e8cb",
   "metadata": {},
   "outputs": [
    {
     "name": "stdout",
     "output_type": "stream",
     "text": [
      "cow\n",
      "bird\n",
      "bee\n"
     ]
    }
   ],
   "source": [
    "\n",
    "cow = Animal(\"cow\")\n",
    "bird = Animal(\"bird\")\n",
    "bee = Animal(\"bee\")\n"
   ]
  },
  {
   "cell_type": "code",
   "execution_count": null,
   "id": "ce3346f1",
   "metadata": {},
   "outputs": [],
   "source": []
  }
 ],
 "metadata": {
  "kernelspec": {
   "display_name": "Python 3",
   "language": "python",
   "name": "python3"
  },
  "language_info": {
   "codemirror_mode": {
    "name": "ipython",
    "version": 3
   },
   "file_extension": ".py",
   "mimetype": "text/x-python",
   "name": "python",
   "nbconvert_exporter": "python",
   "pygments_lexer": "ipython3",
   "version": "3.11.9"
  }
 },
 "nbformat": 4,
 "nbformat_minor": 5
}
