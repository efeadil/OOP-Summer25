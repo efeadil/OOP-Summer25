{
 "cells": [
  {
   "cell_type": "code",
   "execution_count": 7,
   "id": "66748642",
   "metadata": {},
   "outputs": [],
   "source": [
    "class Animal:\n",
    "    def __init__(self):\n",
    "        print(\"An animal has been created!\")\n",
    "\n"
   ]
  },
  {
   "cell_type": "code",
   "execution_count": 8,
   "id": "7ab5e8cb",
   "metadata": {},
   "outputs": [
    {
     "name": "stdout",
     "output_type": "stream",
     "text": [
      "An animal has been created!\n",
      "An animal has been created!\n",
      "An animal has been created!\n"
     ]
    }
   ],
   "source": [
    "a1 = Animal()\n",
    "a2 = Animal()\n",
    "a3 = Animal()\n"
   ]
  },
  {
   "cell_type": "code",
   "execution_count": 9,
   "id": "ce3346f1",
   "metadata": {},
   "outputs": [],
   "source": [
    "# Define the Car class\n",
    "class Car:\n",
    "    def __init__(self, brand, model):\n",
    "        self.brand = brand\n",
    "        self.model = model\n",
    "        print(f\"A car has been created: {self.brand} {self.model}\")\n"
   ]
  },
  {
   "cell_type": "code",
   "execution_count": 10,
   "id": "9e445c0d",
   "metadata": {},
   "outputs": [
    {
     "name": "stdout",
     "output_type": "stream",
     "text": [
      "A car has been created: Toyota Corolla\n",
      "A car has been created: Ford Mustang\n",
      "A car has been created: Tesla Model 3\n"
     ]
    }
   ],
   "source": [
    "# Create 3 Car objects\n",
    "car1 = Car(\"Toyota\", \"Corolla\")\n",
    "car2 = Car(\"Ford\", \"Mustang\")\n",
    "car3 = Car(\"Tesla\", \"Model 3\")\n"
   ]
  }
 ],
 "metadata": {
  "kernelspec": {
   "display_name": "Python 3",
   "language": "python",
   "name": "python3"
  },
  "language_info": {
   "codemirror_mode": {
    "name": "ipython",
    "version": 3
   },
   "file_extension": ".py",
   "mimetype": "text/x-python",
   "name": "python",
   "nbconvert_exporter": "python",
   "pygments_lexer": "ipython3",
   "version": "3.12.1"
  }
 },
 "nbformat": 4,
 "nbformat_minor": 5
}
